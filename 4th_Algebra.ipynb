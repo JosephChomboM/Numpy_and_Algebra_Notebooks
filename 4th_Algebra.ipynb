{
 "cells": [
  {
   "cell_type": "markdown",
   "metadata": {},
   "source": [
    "# **Algebra**"
   ]
  },
  {
   "cell_type": "code",
   "execution_count": 2,
   "metadata": {},
   "outputs": [],
   "source": [
    "import numpy as np"
   ]
  },
  {
   "cell_type": "markdown",
   "metadata": {},
   "source": [
    "## **Basic Structures**"
   ]
  },
  {
   "cell_type": "markdown",
   "metadata": {},
   "source": [
    "### _Scalars_\n",
    "Individual dates Matrix Algebra. Geometrically they have one point and have dimension $0$."
   ]
  },
  {
   "cell_type": "code",
   "execution_count": 3,
   "metadata": {},
   "outputs": [
    {
     "name": "stdout",
     "output_type": "stream",
     "text": [
      "7\n"
     ]
    }
   ],
   "source": [
    "s = np.array(7)\n",
    "print(s)"
   ]
  },
  {
   "cell_type": "markdown",
   "metadata": {},
   "source": [
    "### _Vectors_\n",
    "They form a line and have dimension $1$. Matrices of one dimension, such as $m \\times 1$ (vertical) or $1 \\times m$ (horizontal)."
   ]
  },
  {
   "cell_type": "code",
   "execution_count": 4,
   "metadata": {},
   "outputs": [
    {
     "name": "stdout",
     "output_type": "stream",
     "text": [
      "[2 1 9]\n"
     ]
    }
   ],
   "source": [
    "v = np.array([2, 1, 9])\n",
    "print(v)"
   ]
  },
  {
   "cell_type": "markdown",
   "metadata": {},
   "source": [
    "### _Matrices_\n",
    "Sequences of multiple vectors organized in two dimensions. They form a plane and have dimension $2$, denoted by $m \\times n$."
   ]
  },
  {
   "cell_type": "code",
   "execution_count": 9,
   "metadata": {},
   "outputs": [
    {
     "name": "stdout",
     "output_type": "stream",
     "text": [
      "[[3 4 1]\n",
      " [7 2 8]]\n"
     ]
    },
    {
     "data": {
      "text/plain": [
       "array([[[ 1,  2,  3],\n",
       "        [ 4,  5,  6]],\n",
       "\n",
       "       [[ 7,  8,  9],\n",
       "        [10, 11, 12]]])"
      ]
     },
     "execution_count": 9,
     "metadata": {},
     "output_type": "execute_result"
    }
   ],
   "source": [
    "m = np.array([[3, 4, 1], [7, 2, 8]])\n",
    "print(m)\n",
    "m = np.array([[[1,2,3],[4,5,6]],[[7,8,9],[10,11,12]]])\n",
    "m"
   ]
  },
  {
   "cell_type": "markdown",
   "metadata": {},
   "source": [
    "## **Vector Algebra**\n"
   ]
  },
  {
   "cell_type": "markdown",
   "metadata": {},
   "source": [
    "### ***Vector Addition and Subtraction***\n",
    "To perform vector addition and subtraction, the vectors must have the same length."
   ]
  },
  {
   "cell_type": "code",
   "execution_count": 10,
   "metadata": {},
   "outputs": [
    {
     "name": "stdout",
     "output_type": "stream",
     "text": [
      "Addition: [10 11 12]\n",
      "Subtraction: [-8  5 -2]\n"
     ]
    }
   ],
   "source": [
    "v1 = np.array([1, 8, 5])\n",
    "v2 = np.array([9, 3, 7])\n",
    "\n",
    "print(f'Addition: {v1 + v2}')\n",
    "print('Subtraction: {}'.format(v1 - v2))"
   ]
  },
  {
   "cell_type": "markdown",
   "metadata": {},
   "source": [
    "### ***Multiplication***"
   ]
  },
  {
   "cell_type": "markdown",
   "metadata": {},
   "source": [
    "#### *With a scalar*"
   ]
  },
  {
   "cell_type": "code",
   "execution_count": 12,
   "metadata": {},
   "outputs": [
    {
     "name": "stdout",
     "output_type": "stream",
     "text": [
      "[40 50 60]\n"
     ]
    }
   ],
   "source": [
    "v1 = np.array([4, 5, 6])\n",
    "scalar = 10\n",
    "print(v1 * scalar)"
   ]
  },
  {
   "cell_type": "markdown",
   "metadata": {},
   "source": [
    "#### *Dot Product of Vectors*\n",
    "What does ``np.dot(a, b)`` do? \n",
    "$$\\vec{u} \\cdot \\vec{v} = \\begin{bmatrix} u_1 & u_2 & u_3 \\end{bmatrix}\\begin{bmatrix} v_1 & v_2 & v_3 \\end{bmatrix}^T = \\begin{bmatrix} u_1 & u_2 & u_3 \\end{bmatrix} \\begin{bmatrix} v_1\\\\ v_2\\\\ v_3\\end{bmatrix} = \\begin{bmatrix} u_1v_1 + u_2v_2 + u_3v_3 \\end{bmatrix}$$\n",
    "\n"
   ]
  },
  {
   "cell_type": "code",
   "execution_count": 38,
   "metadata": {},
   "outputs": [
    {
     "name": "stdout",
     "output_type": "stream",
     "text": [
      "Normal: [ 4 10 18]\n",
      "Dot product: 32\n"
     ]
    }
   ],
   "source": [
    "u = np.array([1,2,3])\n",
    "v = np.array([4,5,6])\n",
    "\n",
    "print(f'Normal: {v1*v2}')\n",
    "print(f'Dot product: {np.dot(u,v)}')"
   ]
  },
  {
   "cell_type": "markdown",
   "metadata": {},
   "source": [
    "## **Matrix Algebra**"
   ]
  },
  {
   "cell_type": "markdown",
   "metadata": {},
   "source": [
    "### ***Matrix Addition and Subtraction***\n",
    "To perform matrix addition and subtraction, the matrices must have the same numbers of arrows and the same numbers of columns. This means they must be matrices of the same size $A_{m \\times n} \\times B_{m \\times n}$"
   ]
  },
  {
   "cell_type": "code",
   "execution_count": 33,
   "metadata": {},
   "outputs": [
    {
     "name": "stdout",
     "output_type": "stream",
     "text": [
      "Addition: \n",
      " [[  2 -13  13]\n",
      " [  4   0  -4]]\n",
      "Subtraction:\n",
      " [[  4   5  -1]\n",
      " [ -4 -16  10]]\n"
     ]
    }
   ],
   "source": [
    "m1 = np.array([\n",
    "    [3,-4,6],\n",
    "    [0,-8,3]\n",
    "])\n",
    "m2 = np.array([\n",
    "    [-1,-9,7],\n",
    "    [4,8,-7]\n",
    "])\n",
    "print(f'Addition: \\n {m1 + m2}')\n",
    "print(f'Subtraction:\\n {m1 - m2}')"
   ]
  },
  {
   "attachments": {
    "image.png": {
     "image/png": "[encoded data removed]"
    }
   },
   "cell_type": "markdown",
   "metadata": {},
   "source": [
    "### ***Matrix Multiplication***\n",
    "\n",
    "![](https://static.javatpoint.com/tutorial/dms/images/matrix-multiplication-in-discrete-mathematics11.png), example: ![example.png](attachment:image.png)"
   ]
  },
  {
   "cell_type": "code",
   "execution_count": 41,
   "metadata": {},
   "outputs": [
    {
     "name": "stdout",
     "output_type": "stream",
     "text": [
      "(3, 2)\n",
      "(2, 3)\n",
      "[[ 4 10 17]\n",
      " [11 25 38]\n",
      " [17 39 60]]\n"
     ]
    }
   ],
   "source": [
    "m1 = np.array([\n",
    "    [2,1],\n",
    "    [3,4],\n",
    "    [5, 6]\n",
    "])\n",
    "print(m1.shape)\n",
    "m3 = np.array([ \n",
    "\t[1,3,6],\n",
    "\t[2,4,5],\n",
    "])\n",
    "print(m3.shape)\n",
    "\n",
    "mul = np.dot(m1, m3)\n",
    "print(mul)"
   ]
  },
  {
   "cell_type": "markdown",
   "metadata": {},
   "source": [
    "## **Flatten a matrix**\n",
    "Is used to convert a multi-dimensional array (such as a matrix) into a one-dimensional array by collapsing all the dimensions."
   ]
  },
  {
   "cell_type": "code",
   "execution_count": 42,
   "metadata": {},
   "outputs": [
    {
     "name": "stdout",
     "output_type": "stream",
     "text": [
      "[ 8  6  2  6  3  4  2 -4  6]\n"
     ]
    }
   ],
   "source": [
    "m3 = np.array([\n",
    "\t[8,6,2],\n",
    "\t[6,3,4],\n",
    "\t[2,-4,6]\n",
    "])\n",
    "\n",
    "print(m3.flatten())"
   ]
  },
  {
   "cell_type": "markdown",
   "metadata": {},
   "source": [
    "## **Deep Learning**\n",
    "- Most operations in ML can be done using matrix algebra. It's more computationallly efficent in Deep Learning (ML subfield based on the evolution of a specific algorithm called Neural Networks).\n",
    "- For example: *TensorFlow* Google DL Framework, tensors are the base of DL.\n",
    "    - A scalar is a rank 0 tensor.\n",
    "    - A vector is a rank 1 tensor.\n",
    "    - A matrix is a rank 2 tensor.\n",
    "    - A rank 3 tensor would be a collection of matrices."
   ]
  },
  {
   "cell_type": "code",
   "execution_count": 47,
   "metadata": {},
   "outputs": [
    {
     "name": "stdout",
     "output_type": "stream",
     "text": [
      "[[[ 3 -4  6]\n",
      "  [ 0 -8  3]]\n",
      "\n",
      " [[-1 -9  7]\n",
      "  [ 4  8 -7]]]\n",
      "(2, 2, 3)\n"
     ]
    }
   ],
   "source": [
    "m1 = np.array([[3,-4,6],[0,-8,3]])\n",
    "m2 = np.array([[-1,-9,7],[4,8,-7]])\n",
    "\n",
    "tensor = np.array([m1,m2]) # Array dimension 3\n",
    "\n",
    "print(tensor)\n",
    "print(tensor.shape) # 2 matrices of 2 rows x 3 columns"
   ]
  },
  {
   "cell_type": "code",
   "execution_count": 48,
   "metadata": {},
   "outputs": [
    {
     "name": "stdout",
     "output_type": "stream",
     "text": [
      "[[[ 77  35 151 133  35]\n",
      "  [201  27 132 242  79]\n",
      "  [ 77 150 149  44  79]\n",
      "  [ 25  63 112 212  98]\n",
      "  [  4  68 107 198  67]]\n",
      "\n",
      " [[ 50  55 139  60  57]\n",
      "  [205 237  23 166 132]\n",
      "  [230  50 171 111 232]\n",
      "  [ 81  99 130  16   5]\n",
      "  [245  99 229  70  39]]\n",
      "\n",
      " [[134  74 106 252  67]\n",
      "  [  1  66  31 121  47]\n",
      "  [215 148  49 128  38]\n",
      "  [180 108  23  15 189]\n",
      "  [134  22 181 166  13]]]\n"
     ]
    }
   ],
   "source": [
    "R = np.random.randint(0,255,(5,5)) # Tonalidad de rojos\n",
    "G = np.random.randint(0,255,(5,5)) # Tonalidad de verdes\n",
    "B = np.random.randint(0,255,(5,5)) # Tonalidad de azules\n",
    "\n",
    "imagen = np.array([R,G,B]) # Tensor de rango 3 (3,5,5) 3 matrices de 5 filas por 5 columnas\n",
    "\n",
    "print(imagen)"
   ]
  }
 ],
 "metadata": {
  "kernelspec": {
   "display_name": "Python 3",
   "language": "python",
   "name": "python3"
  },
  "language_info": {
   "codemirror_mode": {
    "name": "ipython",
    "version": 3
   },
   "file_extension": ".py",
   "mimetype": "text/x-python",
   "name": "python",
   "nbconvert_exporter": "python",
   "pygments_lexer": "ipython3",
   "version": "3.11.1"
  }
 },
 "nbformat": 4,
 "nbformat_minor": 2
}
